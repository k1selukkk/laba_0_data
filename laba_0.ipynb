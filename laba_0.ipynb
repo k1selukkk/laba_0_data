{
  "nbformat": 4,
  "nbformat_minor": 0,
  "metadata": {
    "colab": {
      "provenance": []
    },
    "kernelspec": {
      "name": "python3",
      "display_name": "Python 3"
    },
    "language_info": {
      "name": "python"
    }
  },
  "cells": [
    {
      "cell_type": "code",
      "execution_count": 1,
      "metadata": {
        "colab": {
          "base_uri": "https://localhost:8080/"
        },
        "id": "8LXQDoT68vV_",
        "outputId": "36429012-e51b-415d-bc40-6df4f95c6eaa"
      },
      "outputs": [
        {
          "output_type": "stream",
          "name": "stdout",
          "text": [
            "       artist              track\n",
            "0       Queen  Bohemian Rhapsody\n",
            "1   Aerosmith           Dream on\n",
            "2   Radiohead              Creep\n",
            "3      J.Cole          She Knows\n",
            "4  Kanye West            Runaway\n"
          ]
        }
      ],
      "source": [
        "import pandas as pd\n",
        "\n",
        "\n",
        "music = [['Queen', 'Bohemian Rhapsody'], ['Aerosmith', 'Dream on'],\n",
        "        ['Radiohead', 'Creep'], ['J.Cole', 'She Knows'], ['Kanye West', 'Runaway']]\n",
        "\n",
        "\n",
        "\n",
        "entries = ['artist', 'track']\n",
        "\n",
        "playlist = pd.DataFrame(data = music, columns=entries)\n",
        "\n",
        "\n",
        "print(playlist)\n"
      ]
    },
    {
      "cell_type": "code",
      "source": [
        "name = input()\n",
        "hello = f'Привет, {name}'\n",
        "print(hello)"
      ],
      "metadata": {
        "colab": {
          "base_uri": "https://localhost:8080/"
        },
        "id": "SGuFldNHDD2Q",
        "outputId": "5ad74a33-6d2e-4416-b371-323b939b010f"
      },
      "execution_count": 6,
      "outputs": [
        {
          "output_type": "stream",
          "name": "stdout",
          "text": [
            "Дима\n",
            "Привет, Дима\n"
          ]
        }
      ]
    },
    {
      "cell_type": "code",
      "source": [
        "age = int(input())\n",
        "\n",
        "if age >= 18:\n",
        "    print('Доступ разрешен')\n",
        "elif age in range(14,18):\n",
        "    print('Доступ ограничен')\n",
        "else:\n",
        "    print('Доступ запрещен')"
      ],
      "metadata": {
        "colab": {
          "base_uri": "https://localhost:8080/"
        },
        "id": "e_zhNYB7FkEI",
        "outputId": "30eafecc-09cd-4185-aa79-2d549ded9400"
      },
      "execution_count": 7,
      "outputs": [
        {
          "output_type": "stream",
          "name": "stdout",
          "text": [
            "18\n",
            "Доступ разрешен\n"
          ]
        }
      ]
    },
    {
      "cell_type": "code",
      "source": [
        "\n",
        "sentence = input()\n",
        "\n",
        "repetitions = int(input())\n",
        "\n",
        "for i in range(repetitions):\n",
        "    print(sentence)\n"
      ],
      "metadata": {
        "colab": {
          "base_uri": "https://localhost:8080/"
        },
        "id": "MxFnni9-Go1f",
        "outputId": "3aabccae-f848-4ebe-8c6a-fa59cb5285cf"
      },
      "execution_count": 8,
      "outputs": [
        {
          "output_type": "stream",
          "name": "stdout",
          "text": [
            "Дима\n",
            "8\n",
            "Дима\n",
            "Дима\n",
            "Дима\n",
            "Дима\n",
            "Дима\n",
            "Дима\n",
            "Дима\n",
            "Дима\n"
          ]
        }
      ]
    },
    {
      "cell_type": "code",
      "source": [
        "\n",
        "sentence = input()\n",
        "\n",
        "repetitions = int(input())\n",
        "\n",
        "count = 0\n",
        "while count < repetitions:\n",
        "    print(sentence)\n",
        "    count += 1\n"
      ],
      "metadata": {
        "colab": {
          "base_uri": "https://localhost:8080/"
        },
        "id": "loV9BkTBHJPu",
        "outputId": "5c554de7-4538-4ebf-b130-7be12873f0d3"
      },
      "execution_count": 9,
      "outputs": [
        {
          "output_type": "stream",
          "name": "stdout",
          "text": [
            "Дима \n",
            "4\n",
            "Дима \n",
            "Дима \n",
            "Дима \n",
            "Дима \n"
          ]
        }
      ]
    },
    {
      "cell_type": "code",
      "source": [
        "def print_fio(name, surname, patronymic):\n",
        "    print(surname[0].upper(), name[0].upper(), patronymic[0].upper(), sep='')\n",
        "\n",
        "\n",
        "name = input()\n",
        "surname = input()\n",
        "patronymic = input()\n",
        "\n",
        "print_fio(name, surname, patronymic)\n"
      ],
      "metadata": {
        "colab": {
          "base_uri": "https://localhost:8080/"
        },
        "id": "_tBCogSFI_ut",
        "outputId": "9782e0d7-7ade-45ec-d276-ff38b567dae8"
      },
      "execution_count": 11,
      "outputs": [
        {
          "output_type": "stream",
          "name": "stdout",
          "text": [
            "Киселев\n",
            "Дмитрий\n",
            "Владимирович\n",
            "ДКВ\n"
          ]
        }
      ]
    },
    {
      "cell_type": "code",
      "source": [
        "import pandas as pd\n",
        "\n",
        "data = {'col 1': ['Я', 'Python', 'Буду'],\n",
        "        'col 2': ['люблю', 'мой', 'стараться'],\n",
        "        'col 3': ['анализ', 'лучший', 'хорошо'],\n",
        "        'col 4': ['данных', 'друг', 'учиться']}\n",
        "\n",
        "df = pd.DataFrame(data)\n",
        "\n",
        "\n",
        "print(df)\n"
      ],
      "metadata": {
        "colab": {
          "base_uri": "https://localhost:8080/"
        },
        "id": "vaV93bDRJdfW",
        "outputId": "b54d63f7-97c2-44da-dcf1-963058439098"
      },
      "execution_count": 12,
      "outputs": [
        {
          "output_type": "stream",
          "name": "stdout",
          "text": [
            "    col 1      col 2   col 3    col 4\n",
            "0       Я      люблю  анализ   данных\n",
            "1  Python        мой  лучший     друг\n",
            "2    Буду  стараться  хорошо  учиться\n"
          ]
        }
      ]
    }
  ]
}